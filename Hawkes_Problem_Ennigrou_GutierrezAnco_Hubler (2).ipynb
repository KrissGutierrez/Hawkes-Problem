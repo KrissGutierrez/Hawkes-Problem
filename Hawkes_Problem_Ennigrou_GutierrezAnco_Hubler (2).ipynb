{
 "cells": [
  {
   "cell_type": "markdown",
   "id": "45549680",
   "metadata": {},
   "source": [
    "# <div align=\"center\">  MACS207b - Hawkes processes </div>\n",
    "\n",
    "### Homework of Inès ENNIGROU - Kriss GUTIERREZ ANCO - Marion HUBLER"
   ]
  },
  {
   "cell_type": "markdown",
   "id": "bc024f83",
   "metadata": {},
   "source": [
    "The aim of this labwork is to study bursts of security attacks and their modelization as a Hawkes Process. \n",
    "\n",
    "In order to do that, we will use the Privacy Rights Clearinghouse (PCR) database of such attacks in order to find the Hawkes Process with the best parameters $\\alpha$, $\\beta$ and $\\gamma$ that is the closest to our observed process which equates to maximizing its likelihood.\n",
    "\n",
    "Once we find the best $\\alpha$, $\\beta$ and $\\gamma$ and consider this \"best-fit\" Hawkes process and see if it the process $(y(N,T_q(N),q \\ge 1)$ follows a Poisson process of intensity 1, ie if our modelization of the process as a Hawkes Process works.\n",
    "\n",
    "If it does, we can then use this well-fited model to get accurate predictions of future cybersecurity breaches and help with risk managing."
   ]
  },
  {
   "cell_type": "markdown",
   "id": "832138d6",
   "metadata": {},
   "source": [
    "---"
   ]
  },
  {
   "cell_type": "markdown",
   "id": "ff85c16c",
   "metadata": {},
   "source": [
    "# Question 1"
   ]
  },
  {
   "cell_type": "markdown",
   "id": "8fb58df9",
   "metadata": {},
   "source": [
    "Fistly, we start by importing the PCR database and plot the point process of the attacks"
   ]
  },
  {
   "cell_type": "code",
   "execution_count": 1,
   "id": "ce1a92ab",
   "metadata": {},
   "outputs": [
    {
     "data": {
      "image/png": "[encoded data removed]",
      "text/plain": [
       "<Figure size 432x288 with 1 Axes>"
      ]
     },
     "metadata": {
      "needs_background": "light"
     },
     "output_type": "display_data"
    }
   ],
   "source": [
    "## Importing the data\n",
    "\n",
    "import pandas as pd\n",
    "from datetime import datetime\n",
    "from scipy.optimize import minimize,root_scalar,LinearConstraint\n",
    "import numpy as np\n",
    "import matplotlib.pylab as plt\n",
    "from scipy.stats import kstest, chisquare\n",
    "\n",
    "df=pd.read_csv(\"PRC.csv\",sep=';')\n",
    "dff=df.loc[df['Type of breach']==\"HACK\",'Date Made Public']\n",
    "dff=dff.apply(lambda x:datetime.strptime(x,'%m/%d/%Y'))\n",
    "debut=min(dff)\n",
    "dff=dff-debut\n",
    "dff=dff.apply(lambda x:x.days).sort_values()\n",
    "l=np.asarray(dff)[1:]\n",
    "plt.scatter(l,1+np.arange(len(l)),s=0.1)\n",
    "plt.grid()\n",
    "plt.title(\"Point process of the attacks as a function of the time t\")\n",
    "plt.show()"
   ]
  },
  {
   "cell_type": "code",
   "execution_count": 2,
   "id": "9b8a276d",
   "metadata": {
    "scrolled": true
   },
   "outputs": [
    {
     "name": "stdout",
     "output_type": "stream",
     "text": [
      "dff 1577       0\n",
      "1578       8\n",
      "1584      57\n",
      "1586      60\n",
      "1590      65\n",
      "        ... \n",
      "6552    5303\n",
      "6549    5320\n",
      "6548    5321\n",
      "6544    5341\n",
      "6543    5364\n",
      "Name: Date Made Public, Length: 2533, dtype: int64\n",
      "\n",
      "l [   8   57   60 ... 5321 5341 5364] which has length 2532\n"
     ]
    }
   ],
   "source": [
    "## Visualization of the data we will work on\n",
    "\n",
    "print('dff',dff)\n",
    "print('\\nl',l, 'which has length', len(l))"
   ]
  },
  {
   "cell_type": "markdown",
   "id": "9b6762c0",
   "metadata": {},
   "source": [
    "---"
   ]
  },
  {
   "cell_type": "markdown",
   "id": "6743a515",
   "metadata": {},
   "source": [
    "# Question 2"
   ]
  },
  {
   "cell_type": "markdown",
   "id": "1d17efef",
   "metadata": {},
   "source": [
    "We start by implementing the negative loglikelihood function, that we will minimize using ``` scipy.optimize.minimize()```\n",
    "The likelihood is defined for any time t that's why we wanted at first, a global (uniform) value of $\\alpha$, $\\beta$ and $\\gamma$ but due to the complexity and the potential impossibility of computation, we chose to set ```t=l[-1]```.  By choosing this value, we look at the likelihood that the entire path is a Hawkes Process."
   ]
  },
  {
   "cell_type": "code",
   "execution_count": 3,
   "id": "5a489a67",
   "metadata": {},
   "outputs": [],
   "source": [
    "t = l[-1]\n",
    "\n",
    "def loglikelihood(x):\n",
    "    ll = np.array(l)\n",
    "    alpha = x[0]\n",
    "    beta = x[1]\n",
    "    gamma = x[2]\n",
    "    n = len(ll)\n",
    "    s = 0\n",
    "    t = ll[-1]\n",
    "    \n",
    "    for i in range(n):\n",
    "        if ll[i] <= t :\n",
    "            s += np.log( alpha + beta * np.sum( np.exp( -gamma*(ll[i] - ll[0:i]) ) )) \n",
    "            s -= beta/gamma * (1-np.exp(-gamma*(t-ll[i])))\n",
    "    s += (1-alpha)*t\n",
    "    \n",
    "    return -s"
   ]
  },
  {
   "cell_type": "code",
   "execution_count": 12,
   "id": "8a2c7ef3",
   "metadata": {},
   "outputs": [
    {
     "name": "stdout",
     "output_type": "stream",
     "text": [
      "1036.39455232292\n",
      "136.432757858659\n",
      "-909.804402833553\n"
     ]
    }
   ],
   "source": [
    "print(loglikelihood([1,1,1]))\n",
    "print(loglikelihood([0.1,0.1,10]))\n",
    "print(loglikelihood([0.4, 1, 1]))"
   ]
  },
  {
   "cell_type": "code",
   "execution_count": 14,
   "id": "940f5963",
   "metadata": {},
   "outputs": [],
   "source": [
    "n = len(l)\n",
    "A = np.zeros(n)\n",
    "B = np.zeros(n)\n",
    "def AandB(x):\n",
    "    alpha = x[0]\n",
    "    beta = x[1]\n",
    "    gamma = x[2]\n",
    "    A[0] = 0\n",
    "    B[0] = 0\n",
    "    for i in range(1,n):\n",
    "        A[i] =  np.exp(-gamma*(l[i] - l[i-1]))*(1+A[i-1])\n",
    "        B[i] =  np.exp(gamma*(l[i] - l[i-1]))*(1+B[i-1])\n",
    "    "
   ]
  },
  {
   "cell_type": "code",
   "execution_count": 24,
   "id": "0ca4bdac",
   "metadata": {},
   "outputs": [],
   "source": [
    "def der_beta(x):\n",
    "    ll = np.array(l)\n",
    "    alpha = x[0]\n",
    "    beta = x[1]\n",
    "    gamma = x[2]\n",
    "    n = len(ll)\n",
    "    s = 0\n",
    "    t = ll[-1]\n",
    "    AandB(x)\n",
    "    for i in range(n):\n",
    "        s = s + (1/gamma)*(np.exp(-gamma*(t-ll[i])) - 1) + (A[i]/(alpha + beta*A[i]))\n",
    "    return s"
   ]
  },
  {
   "cell_type": "code",
   "execution_count": 23,
   "id": "e3a3843c",
   "metadata": {},
   "outputs": [],
   "source": [
    "def der_gamma(x):\n",
    "    ll = np.array(l)\n",
    "    alpha = x[0]\n",
    "    beta = x[1]\n",
    "    gamma = x[2]\n",
    "    n = len(ll)\n",
    "    s = 0\n",
    "    t = ll[-1]\n",
    "    AandB(x)\n",
    "    for i in range(n):\n",
    "        s = s - beta*((1/gamma)*(t-ll[i])*np.exp(-gamma*(t-ll[i]))) - (beta*B[i]/(alpha + beta*A[i]))\n",
    "    return s"
   ]
  },
  {
   "cell_type": "code",
   "execution_count": 22,
   "id": "dee29e06",
   "metadata": {},
   "outputs": [],
   "source": [
    "def der_alpha(x):\n",
    "    ll = np.array(l)\n",
    "    alpha = x[0]\n",
    "    beta = x[1]\n",
    "    gamma = x[2]\n",
    "    n = len(ll)\n",
    "    s = 0\n",
    "    t = ll[-1]\n",
    "    AandB(x)\n",
    "    for i in range(n):\n",
    "        s = s + (1/(alpha + beta*A[i]))\n",
    "    s = s - t\n",
    "    return s"
   ]
  },
  {
   "cell_type": "code",
   "execution_count": 21,
   "id": "f260701e",
   "metadata": {},
   "outputs": [
    {
     "name": "stdout",
     "output_type": "stream",
     "text": [
      "-3788.8518447781757\n",
      "14347.337184274642\n",
      "-2348.465620855125\n"
     ]
    },
    {
     "name": "stderr",
     "output_type": "stream",
     "text": [
      "C:\\Users\\ASPIRE 5\\AppData\\Local\\Temp\\ipykernel_8656\\3241094419.py:12: RuntimeWarning: overflow encountered in double_scalars\n",
      "  B[i] =  np.exp(gamma*(l[i] - l[i-1]))*(1+B[i-1])\n"
     ]
    }
   ],
   "source": [
    "print(der_alpha([1,1,1]))\n",
    "print(der_alpha([0.1,0.1,10]))\n",
    "print(der_alpha([0.4, 1, 1]))"
   ]
  },
  {
   "cell_type": "code",
   "execution_count": 26,
   "id": "4842a06c",
   "metadata": {},
   "outputs": [
    {
     "name": "stdout",
     "output_type": "stream",
     "text": [
      "-inf\n",
      "-inf\n",
      "-inf\n"
     ]
    },
    {
     "name": "stderr",
     "output_type": "stream",
     "text": [
      "C:\\Users\\ASPIRE 5\\AppData\\Local\\Temp\\ipykernel_8656\\3241094419.py:12: RuntimeWarning: overflow encountered in double_scalars\n",
      "  B[i] =  np.exp(gamma*(l[i] - l[i-1]))*(1+B[i-1])\n"
     ]
    }
   ],
   "source": [
    "print(der_gamma([1,1,1]))\n",
    "print(der_gamma([0.1,0.1,10]))\n",
    "print(der_gamma([0.4, 1, 1]))"
   ]
  },
  {
   "cell_type": "code",
   "execution_count": 25,
   "id": "2a4ec1de",
   "metadata": {},
   "outputs": [
    {
     "name": "stdout",
     "output_type": "stream",
     "text": [
      "-1574.1481552217213\n",
      "5355.562815725219\n",
      "-1205.2137516578468\n"
     ]
    },
    {
     "name": "stderr",
     "output_type": "stream",
     "text": [
      "C:\\Users\\ASPIRE 5\\AppData\\Local\\Temp\\ipykernel_8656\\3241094419.py:12: RuntimeWarning: overflow encountered in double_scalars\n",
      "  B[i] =  np.exp(gamma*(l[i] - l[i-1]))*(1+B[i-1])\n"
     ]
    }
   ],
   "source": [
    "print(der_beta([1,1,1]))\n",
    "print(der_beta([0.1,0.1,10]))\n",
    "print(der_beta([0.4, 1, 1]))"
   ]
  },
  {
   "cell_type": "markdown",
   "id": "85efefda",
   "metadata": {},
   "source": [
    "## explain the constraint and why we took alpha, beta, gamma >=0 , and beta/gamma<1 (LATEX)\n",
    "\n",
    "we assume that the conditional intensity has the following form:\n",
    "$$\\dot{y}(N,t) = \\alpha + \\beta\\int_0^{t-}e^{-\\gamma(t-s)}dN(s)$$\n",
    "where:\n",
    "\n",
    "$\\alpha$, $\\beta$ and $\\gamma$ are positive real numbers and $\\frac{\\beta}{\\gamma}<1$. \n",
    "\n",
    "The constants $\\beta$ and $\\gamma$ have the following interpretation: each arrival in the system instantaneously increases the arrival intensity by $\\beta$, then over the time this arrival's influence decays at rate $\\gamma$"
   ]
  },
  {
   "cell_type": "code",
   "execution_count": 31,
   "id": "4e07e3e7",
   "metadata": {},
   "outputs": [
    {
     "name": "stdout",
     "output_type": "stream",
     "text": [
      "     fun: -14046.301224687435\n",
      "     jac: array([-0.00927734,  0.00048828,  0.        ])\n",
      " message: 'Optimization terminated successfully'\n",
      "    nfev: 151\n",
      "     nit: 29\n",
      "    njev: 29\n",
      "  status: 0\n",
      " success: True\n",
      "       x: array([2.94369742e-01, 3.37179938e+05, 2.77368336e+06])\n",
      "\n",
      "Initial [alpha, beta, gamma] = [1.e+00 8.e-04 7.e-03]\n",
      "alpha =  0.2943697415517929\n",
      "beta =  337179.93751027994\n",
      "gamma =  2773683.355208832\n",
      "and ratio beta/gamma = 0.12156396182609443 \n",
      "\n"
     ]
    }
   ],
   "source": [
    "bounds = [(0, None), (0, None), (0, None)]\n",
    "\n",
    "beta_over_gamma_constraint = [LinearConstraint([[0, 1, -1]], [-np.inf], [-1e-09])]\n",
    "\n",
    "initial_x = np.array([1,0.0008,0.007])\n",
    "\n",
    "minimal = minimize(loglikelihood, initial_x, bounds = bounds, constraints=beta_over_gamma_constraint)\n",
    "\n",
    "print(minimal)\n",
    "print()\n",
    "print('Initial [alpha, beta, gamma] =', initial_x)\n",
    "print('alpha = ', minimal.x[0])\n",
    "print('beta = ',  minimal.x[1] )\n",
    "print('gamma = ',  minimal.x[2]) \n",
    "print('and ratio beta/gamma =',  minimal.x[1]/ minimal.x[2], '\\n')\n",
    "\n",
    "## \"\"\" method = 'Default' \"\"\""
   ]
  },
  {
   "cell_type": "markdown",
   "id": "a7e01d17",
   "metadata": {},
   "source": [
    "**Warning :** The next cell might take some time to execute\n",
    "\n",
    "Let's try different initial values and see how the results behave"
   ]
  },
  {
   "cell_type": "code",
   "execution_count": 32,
   "id": "4c6cacb7",
   "metadata": {},
   "outputs": [
    {
     "name": "stdout",
     "output_type": "stream",
     "text": [
      "Initial [alpha, beta, gamma] = [1, 1, 1]\n",
      "alpha =  0.2944753582360483\n",
      "beta =  30417.45171836557\n",
      "gamma =  35173.189107448605\n",
      "and ratio beta/gamma = 0.8647908389951505\n",
      "Success of optimization True \n",
      "\n",
      "Initial [alpha, beta, gamma] = [1, 1, 2]\n",
      "alpha =  0.29449667589208756\n",
      "beta =  36513.71305136755\n",
      "gamma =  90977.76556905148\n",
      "and ratio beta/gamma = 0.4013476570124587\n",
      "Success of optimization True \n",
      "\n",
      "Initial [alpha, beta, gamma] = [0.4, 1, 1]\n",
      "alpha =  0.2950585846738998\n",
      "beta =  162949.3764883204\n",
      "gamma =  243813.73208304038\n",
      "and ratio beta/gamma = 0.6683355161998077\n",
      "Success of optimization True \n",
      "\n"
     ]
    }
   ],
   "source": [
    "initial_x = [1,1,1]\n",
    "minimal = minimize(loglikelihood, initial_x, bounds = bounds, constraints=constraints)\n",
    "alpha_star, beta_star, gamma_star = minimal.x[0], minimal.x[1], minimal.x[2]\n",
    "print('Initial [alpha, beta, gamma] =', initial_x)\n",
    "print('alpha = ', alpha_star)\n",
    "print('beta = ', beta_star )\n",
    "print('gamma = ', gamma_star) \n",
    "print('and ratio beta/gamma =', beta_star/gamma_star)\n",
    "print('Success of optimization', minimal.success, '\\n')\n",
    "\n",
    "initial_x = [0.1,0.1,10]\n",
    "minimal = minimize(loglikelihood, initial_x,  bounds = bounds, constraints=constraints)\n",
    "alpha_star, beta_star, gamma_star = minimal.x[0], minimal.x[1], minimal.x[2]\n",
    "print('Initial [alpha, beta, gamma] =', initial_x)\n",
    "print('alpha = ', alpha_star)\n",
    "print('beta = ', beta_star )\n",
    "print('gamma = ', gamma_star) \n",
    "print('and ratio beta/gamma =', beta_star/gamma_star)\n",
    "print('Success of optimization', minimal.success, '\\n')\n",
    "\n",
    "initial_x = [0.4, 1, 1]\n",
    "minimal = minimize(loglikelihood, initial_x, bounds = bounds, constraints=constraints)\n",
    "alpha_star, beta_star, gamma_star = minimal.x[0], minimal.x[1], minimal.x[2]\n",
    "print('Initial [alpha, beta, gamma] =', initial_x)\n",
    "print('alpha = ', alpha_star)\n",
    "print('beta = ', beta_star )\n",
    "print('gamma = ', gamma_star) \n",
    "print('and ratio beta/gamma =', beta_star/gamma_star)\n",
    "print('Success of optimization', minimal.success, '\\n')"
   ]
  },
  {
   "cell_type": "markdown",
   "id": "f3fc3864",
   "metadata": {},
   "source": [
    "By looking at these results, we can observe that the value of $\\alpha$ is rather constant. However, we see that the values of $\\beta$ and $\\gamma$ don't seem to be bounded and change a lot when changing the initial values.\n",
    "\n",
    "\n",
    "Now we would like to test the stability of the results by slightly changing the initial values."
   ]
  },
  {
   "cell_type": "code",
   "execution_count": 38,
   "id": "2896ec4a",
   "metadata": {},
   "outputs": [
    {
     "name": "stdout",
     "output_type": "stream",
     "text": [
      "Initial [alpha, beta, gamma] = [1, 1, 1]\n",
      "alpha =  0.2944753582360483\n",
      "beta =  30417.45171836557\n",
      "gamma =  35173.189107448605\n",
      "The value of loglikelihood -9872.66323936915\n",
      "Success of optimization True \n",
      "\n",
      "Initial [alpha, beta, gamma] = [1, 1, 1.1]\n",
      "alpha =  0.29437129764459175\n",
      "beta =  24521.4489146189\n",
      "gamma =  33144.01136534746\n",
      "The value of loglikelihood -9983.560269689442\n",
      "Success of optimization True \n",
      "\n",
      "Initial [alpha, beta, gamma] = [1, 1, 2]\n",
      "alpha =  0.29449667589208756\n",
      "beta =  36513.71305136755\n",
      "gamma =  90977.76556905148\n",
      "The value of loglikelihood -11219.722545783676\n",
      "Success of optimization True \n",
      "\n"
     ]
    }
   ],
   "source": [
    "## Stability Test: \n",
    "\n",
    "initial_x = [1,1,1]\n",
    "minimal = minimize(loglikelihood, initial_x, bounds = bounds, constraints=constraints)\n",
    "alpha_star, beta_star, gamma_star = minimal.x[0], minimal.x[1], minimal.x[2]\n",
    "print('Initial [alpha, beta, gamma] =', initial_x)\n",
    "print('alpha = ', alpha_star)\n",
    "print('beta = ', beta_star )\n",
    "print('gamma = ', gamma_star) \n",
    "print('The value of loglikelihood', minimal.fun)\n",
    "print('Success of optimization', minimal.success, '\\n')\n",
    "\n",
    "\n",
    "initial_x = [1,1,1.1]\n",
    "minimal = minimize(loglikelihood, initial_x,  bounds = bounds, constraints=constraints)\n",
    "alpha_star, beta_star, gamma_star = minimal.x[0], minimal.x[1], minimal.x[2]\n",
    "print('Initial [alpha, beta, gamma] =', initial_x)\n",
    "print('alpha = ', alpha_star)\n",
    "print('beta = ', beta_star )\n",
    "print('gamma = ', gamma_star) \n",
    "print('The value of loglikelihood', minimal.fun)\n",
    "print('Success of optimization', minimal.success, '\\n')\n",
    "\n",
    "\n",
    "initial_x = [1,1,2]\n",
    "minimal = minimize(loglikelihood, initial_x,  bounds = bounds, constraints=constraints)\n",
    "alpha_star, beta_star, gamma_star = minimal.x[0], minimal.x[1], minimal.x[2]\n",
    "print('Initial [alpha, beta, gamma] =', initial_x)\n",
    "print('alpha = ', alpha_star)\n",
    "print('beta = ', beta_star )\n",
    "print('gamma = ', gamma_star) \n",
    "print('The value of loglikelihood', minimal.fun)\n",
    "print('Success of optimization', minimal.success, '\\n')"
   ]
  },
  {
   "cell_type": "markdown",
   "id": "a9128639",
   "metadata": {},
   "source": [
    "* First, by slightly (1 and 1.1) changing the initial value of $\\gamma$ while mainting the others constant, we can see that the value of $\\alpha$ and $\\gamma$ is almost the same. But, the value of $\\beta$ decreases considerably.\n",
    "* Secondly, we changed the value of  $\\gamma$ more so (1 to 2),  $\\alpha$ is still constant but  $\\beta$ increases slightly and  $\\gamma$ explodes.\n",
    "\n",
    "$\\rightarrow$ Though  $\\alpha$ is stable and  $\\beta$ doesn't seem to change a lot, we can see that changing the initial value of  $\\gamma$ really impacts its behaviour and that the loglikelihood seems to have a lot of different local minimals."
   ]
  },
  {
   "cell_type": "code",
   "execution_count": 43,
   "id": "db6ee191",
   "metadata": {},
   "outputs": [
    {
     "name": "stdout",
     "output_type": "stream",
     "text": [
      "Initial [alpha, beta, gamma] = [1, 1e+29, 1e+30]\n",
      "alpha =  0.2943783057492528\n",
      "beta =  1e+29\n",
      "gamma =  1e+30\n",
      "The value of loglikelihood -65607.28467576455\n",
      "Success of optimization True \n",
      "\n"
     ]
    }
   ],
   "source": [
    "initial_x = [1,1e+29,1e+30]\n",
    "minimal = minimize(loglikelihood, initial_x,  bounds = bounds, constraints=constraints)\n",
    "alpha_star, beta_star, gamma_star = minimal.x[0], minimal.x[1], minimal.x[2]\n",
    "print('Initial [alpha, beta, gamma] =', initial_x)\n",
    "print('alpha = ', alpha_star)\n",
    "print('beta = ', beta_star )\n",
    "print('gamma = ', gamma_star) \n",
    "print('The value of loglikelihood', minimal.fun)\n",
    "print('Success of optimization', minimal.success, '\\n')"
   ]
  },
  {
   "cell_type": "markdown",
   "id": "e5f16bb0",
   "metadata": {},
   "source": [
    "We can see that by choosing some very bad initial values for $\\beta$ and $\\gamma$, we have some unusable results, even though we find better values for the minimum of the -loglikelihood.  "
   ]
  },
  {
   "cell_type": "markdown",
   "id": "e21103b4",
   "metadata": {},
   "source": [
    "#### Conclusion:\n",
    "\n",
    "We ran several test (and even more than what is shown) and we find that the obtainted values of the parameters $\\alpha$, $\\beta$, $\\gamma$ are all stricly positive and the ratio $\\frac{\\beta}{\\gamma}$ is always smaller than $1$."
   ]
  },
  {
   "cell_type": "markdown",
   "id": "99d1f10d",
   "metadata": {},
   "source": [
    "---"
   ]
  },
  {
   "cell_type": "markdown",
   "id": "0345153b",
   "metadata": {},
   "source": [
    "# Question 3"
   ]
  },
  {
   "cell_type": "markdown",
   "id": "98da5e3c",
   "metadata": {},
   "source": [
    "In this question, we decided to choose some initial values of $\\alpha$, $\\beta$ and $\\gamma$ that we found arbitrarly but that still allowed for values of $\\beta$ and $\\gamma$ that do not explode."
   ]
  },
  {
   "cell_type": "code",
   "execution_count": 61,
   "id": "b81b845a",
   "metadata": {},
   "outputs": [
    {
     "name": "stdout",
     "output_type": "stream",
     "text": [
      "[1.e+00 1.e-04 1.e-03]\n",
      "     fun: -16238.497329231197\n",
      "     jac: array([0.02490234, 0.        , 0.        ])\n",
      " message: 'Optimization terminated successfully'\n",
      "    nfev: 153\n",
      "     nit: 33\n",
      "    njev: 33\n",
      "  status: 0\n",
      " success: True\n",
      "       x: array([2.94370554e-01, 2.93078050e+06, 4.20854296e+07])\n",
      "\n",
      "Initial [alpha, beta, gamma] = [1.e+00 1.e-04 1.e-03] alpha =  0.29437055437953136 beta =  2930780.501722357 gamma =  42085429.56663883 and ratio beta/gamma = 0.06963884013781316\n"
     ]
    }
   ],
   "source": [
    "initial_x = np.array([1,0.0001,0.001])\n",
    "\n",
    "minimal = minimize(loglikelihood, initial_x, bounds = bounds, constraints=constraints)\n",
    "print(initial_x)\n",
    "print(minimal)\n",
    "print()\n",
    "alpha, beta, gamma = minimal.x[0], minimal.x[1], minimal.x[2]\n",
    "print('Initial [alpha, beta, gamma] =', initial_x ,'alpha = ', alpha, 'beta = ', beta ,'gamma = ', gamma, 'and ratio beta/gamma =', beta/gamma)"
   ]
  },
  {
   "cell_type": "markdown",
   "id": "2291bf5e",
   "metadata": {},
   "source": [
    "Now we plot! :)"
   ]
  },
  {
   "cell_type": "markdown",
   "id": "86d9f51a",
   "metadata": {},
   "source": [
    "## LATEK FOR Y"
   ]
  },
  {
   "cell_type": "code",
   "execution_count": 60,
   "id": "1fa6169a",
   "metadata": {},
   "outputs": [
    {
     "name": "stdout",
     "output_type": "stream",
     "text": [
      "[   2.35495793   16.90063923   17.90531242 ... 1873.77665426 1879.78561305\n",
      " 1886.67768107]\n"
     ]
    },
    {
     "data": {
      "image/png": "[encoded data removed]",
      "text/plain": [
       "<Figure size 1080x504 with 1 Axes>"
      ]
     },
     "metadata": {
      "needs_background": "light"
     },
     "output_type": "display_data"
    }
   ],
   "source": [
    "def NewProcessY(l, alpha, beta, gamma):\n",
    "    L = []\n",
    "    n= len (l)\n",
    "    y = lambda l,i  : alpha*l[i] + beta/gamma * np.sum(1 - np.exp(-gamma*(l[i]-l[0:i]))) \n",
    "    for i in range (n):\n",
    "        new_time= y(l,i)\n",
    "        L.append(new_time)\n",
    "    \n",
    "    return np.array(L)\n",
    "\n",
    "L = NewProcessY(l,alpha, beta, gamma)\n",
    "print(L)\n",
    "\n",
    "pointprocess = [0] + list(range(len(L)-1))\n",
    "\n",
    "plt.figure(figsize = (15,7))\n",
    "plt.step(L, pointprocess)\n",
    "plt.plot(L,L)\n",
    "plt.title(\"Trajectory of the point process (Y(N,Tq(N)))q>=1\")\n",
    "plt.xlabel('t')\n",
    "plt.grid()\n",
    "plt.show()"
   ]
  },
  {
   "cell_type": "markdown",
   "id": "bd7364e1",
   "metadata": {},
   "source": [
    "Let's define the list of inter-arrival times as follows in order to compare these samples to $\\mathcal{Exp}(1)$ and so check the Poisson Hypothesis"
   ]
  },
  {
   "cell_type": "code",
   "execution_count": 74,
   "id": "261d564b",
   "metadata": {},
   "outputs": [
    {
     "name": "stdout",
     "output_type": "stream",
     "text": [
      "[14.5456813   1.00467319  1.59341267 ...  0.4159337   6.00895879\n",
      "  6.89206802]\n",
      "Estimation of lambda using the mean :  1.3431881752142005\n",
      "Estimation of lambda using the standard variation :  0.9042228885890146\n"
     ]
    }
   ],
   "source": [
    "inter_arrival = np.array([L[i+1]-L[i] for i in range(len(L)-1)])\n",
    "print(inter_arrival)\n",
    "\n",
    "print('Estimation of lambda using the mean : ', 1/np.mean(inter_arrival))\n",
    "print('Estimation of lambda using the standard variation : ', 1/np.sqrt(np.var(inter_arrival)))"
   ]
  },
  {
   "cell_type": "markdown",
   "id": "02163619",
   "metadata": {},
   "source": [
    "These values are not too far from 1, but it's not enough to conclude, let's plot a histogramm and compare it to the density of $\\mathcal{Exp}(1)$ "
   ]
  },
  {
   "cell_type": "code",
   "execution_count": 63,
   "id": "89f28fb7",
   "metadata": {
    "scrolled": true
   },
   "outputs": [
    {
     "data": {
      "image/png": "[encoded data removed]",
      "text/plain": [
       "<Figure size 432x288 with 1 Axes>"
      ]
     },
     "metadata": {
      "needs_background": "light"
     },
     "output_type": "display_data"
    }
   ],
   "source": [
    "f= lambda x: np.exp(-x)\n",
    "\n",
    "n, bins, patches=plt.hist(inter_arrival, bins=50, density=True, color = 'b')\n",
    "plt.plot(bins, f(bins), linewidth=2, color='red')\n",
    "plt.axis([0, 5,0,1.3])\n",
    "plt.xlabel('x')\n",
    "plt.ylabel('pdf(x)')\n",
    "plt.grid()\n",
    "plt.show()"
   ]
  },
  {
   "cell_type": "markdown",
   "id": "a0c37278",
   "metadata": {},
   "source": [
    "The histogram looks good: we can see that the bins seem to follow a distribution that is rathern close to the exponential one. Therefore, we can conclude that the hawkes process can actually be a good modelization of the database."
   ]
  },
  {
   "cell_type": "markdown",
   "id": "b8183ff7",
   "metadata": {},
   "source": [
    "# Final conclusion :  "
   ]
  },
  {
   "cell_type": "markdown",
   "id": "72f4db9b",
   "metadata": {},
   "source": []
  }
 ],
 "metadata": {
  "kernelspec": {
   "display_name": "Python 3 (ipykernel)",
   "language": "python",
   "name": "python3"
  },
  "language_info": {
   "codemirror_mode": {
    "name": "ipython",
    "version": 3
   },
   "file_extension": ".py",
   "mimetype": "text/x-python",
   "name": "python",
   "nbconvert_exporter": "python",
   "pygments_lexer": "ipython3",
   "version": "3.9.12"
  }
 },
 "nbformat": 4,
 "nbformat_minor": 5
}
